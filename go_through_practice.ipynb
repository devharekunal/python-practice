{
  "nbformat": 4,
  "nbformat_minor": 0,
  "metadata": {
    "colab": {
      "provenance": [],
      "toc_visible": true,
      "authorship_tag": "ABX9TyMAsQoCb+OHuFq4uzUUnwYE",
      "include_colab_link": true
    },
    "kernelspec": {
      "name": "python3",
      "display_name": "Python 3"
    },
    "language_info": {
      "name": "python"
    }
  },
  "cells": [
    {
      "cell_type": "markdown",
      "metadata": {
        "id": "view-in-github",
        "colab_type": "text"
      },
      "source": [
        "<a href=\"https://colab.research.google.com/github/devharekunal/python-practice/blob/main/go_through_practice.ipynb\" target=\"_parent\"><img src=\"https://colab.research.google.com/assets/colab-badge.svg\" alt=\"Open In Colab\"/></a>"
      ]
    },
    {
      "cell_type": "code",
      "execution_count": null,
      "metadata": {
        "id": "JOZAlApW1h6P"
      },
      "outputs": [],
      "source": [
        "#1.Write a for loop that iterates over a list of numbers and prints out each number on a new line.\n",
        "\n",
        "x=[1,2,4,5,6,7,8,9,10]\n",
        "for i in x:\n",
        "    print(i)"
      ]
    },
    {
      "cell_type": "code",
      "source": [
        "#2.Write a for loop that iterates over a string and prints out each character on a new line.\n",
        "family='kunal'\n",
        "for x in family:\n",
        "        print(x)\n",
        "else:\n",
        "     print('finish')"
      ],
      "metadata": {
        "id": "QH2dirztee8l"
      },
      "execution_count": null,
      "outputs": []
    },
    {
      "cell_type": "code",
      "source": [
        "#3.Write a for loop that iterates over a list of strings and prints out the length of each string.\n",
        "family=['kunal','nikhil','veera']\n",
        "for x in family:\n",
        "    print(len(x))"
      ],
      "metadata": {
        "id": "YnMNv94Iekc1"
      },
      "execution_count": null,
      "outputs": []
    },
    {
      "cell_type": "code",
      "source": [
        "#4.Write a for loop that iterates over a range of numbers and prints out the square of each number.\n",
        "for i in range(1,10):\n",
        "    print(i**2,'',i)"
      ],
      "metadata": {
        "id": "iOVFQTFxelhN"
      },
      "execution_count": null,
      "outputs": []
    },
    {
      "cell_type": "code",
      "source": [
        "#5.Iterate over a list of numbers and print out only the even numbers:\n",
        "numbers=[1,2,3,4,5,6,7,8,9,10]\n",
        "new=[]\n",
        "for evenno in numbers:\n",
        "    if evenno %2==0:\n",
        "         new.append(evenno)\n",
        "print(new)\n",
        "evenno=[x for x in range(0,11) if x%2==0]\n",
        "print(evenno)"
      ],
      "metadata": {
        "id": "py7c7oTbepTW"
      },
      "execution_count": null,
      "outputs": []
    },
    {
      "cell_type": "code",
      "source": [
        "#6.Iterate over a list of strings and print out only the strings that contain the letter \"a\":\n",
        "strings=['kunal','dhanashree','veera']\n",
        "for i in strings:\n",
        "    if 'a' in i:\n",
        "        print(i)"
      ],
      "metadata": {
        "id": "qV6saI2VevSG"
      },
      "execution_count": null,
      "outputs": []
    },
    {
      "cell_type": "code",
      "source": [
        "#7.Iterate over a list of tuples, where each tuple contains a name and an age,\n",
        "# and print out only the names of people who are over 18 years old:\n",
        "people = [(\"Alice\", 20), (\"Bob\", 17), (\"Charlie\", 25)]\n",
        "for i in people:\n",
        "    name,age=i\n",
        "    if age>18:\n",
        "        print(name,age)"
      ],
      "metadata": {
        "id": "iChfZjV6eya2"
      },
      "execution_count": null,
      "outputs": []
    },
    {
      "cell_type": "code",
      "source": [
        "#8.Iterating over a list of dictionaries and printing only the names of people who are under 30 years old:\n",
        "people = [ {\"name\": \"Alice\", \"age\": 25},{\"name\": \"Bob\", \"age\": 30},{\"name\": \"Charlie\", \"age\": 20}]\n",
        "for i in people:\n",
        "        name,age=i\n",
        "        if age<=30:\n",
        "            print(name,age)\n"
      ],
      "metadata": {
        "id": "MpMA9Vkae5Qd"
      },
      "execution_count": null,
      "outputs": []
    },
    {
      "cell_type": "code",
      "source": [
        "#9.Write a loop to print all the numbers between 1 and 10:\n",
        "for i in range(1,11):\n",
        "    print(i)"
      ],
      "metadata": {
        "colab": {
          "base_uri": "https://localhost:8080/"
        },
        "id": "R4-EaNAOe7hu",
        "outputId": "d3f88902-7272-4f2e-9e84-5b0cc7333b61"
      },
      "execution_count": 1,
      "outputs": [
        {
          "output_type": "stream",
          "name": "stdout",
          "text": [
            "1\n",
            "2\n",
            "3\n",
            "4\n",
            "5\n",
            "6\n",
            "7\n",
            "8\n",
            "9\n",
            "10\n"
          ]
        }
      ]
    },
    {
      "cell_type": "code",
      "source": [
        "#10.Write a loop to print all the even numbers between 1 and 20:\n",
        "for i in range(1,21):\n",
        "    if i %2==0:\n",
        "        print(i)"
      ],
      "metadata": {
        "id": "4aW_NYvVfAi0"
      },
      "execution_count": null,
      "outputs": []
    },
    {
      "cell_type": "code",
      "source": [
        "#11.Write a loop to calculate the sum of all the numbers between 1 and 50:\n",
        "k=0\n",
        "for i in range(1,6):\n",
        "    k=k+i\n",
        "print(k)"
      ],
      "metadata": {
        "id": "50XfcJvDfFw7"
      },
      "execution_count": null,
      "outputs": []
    },
    {
      "cell_type": "code",
      "source": [
        "#12.Write a loop to calculate the reverse of number:\n",
        "\n",
        "n=int(input('enter no'))\n",
        "rev=0\n",
        "while n>0:\n",
        "    digit=n%10\n",
        "    rev=(rev*10)+digit\n",
        "    n=n//10\n",
        "print(rev)"
      ],
      "metadata": {
        "id": "fzWQVj5PfIRv"
      },
      "execution_count": null,
      "outputs": []
    },
    {
      "cell_type": "code",
      "source": [
        "#13.Write a program to print all the even numbers between 0 and 50.\n",
        "i=0\n",
        "while i<=50:\n",
        "     if i %2==0:\n",
        "         print(i)\n",
        "     i=i+1\n"
      ],
      "metadata": {
        "id": "ItWYS0fUfKdN"
      },
      "execution_count": null,
      "outputs": []
    },
    {
      "cell_type": "code",
      "source": [
        "#14.Write a program that prompts the user to enter a password and keeps prompting them until they enter the correct password \"python\".\n",
        "i=input('enter password')\n",
        "while i=='python':\n",
        "    print('password is correct')\n",
        "    break\n",
        "else:\n",
        "    print('password is incorrect, please try again')"
      ],
      "metadata": {
        "id": "GSsrL21efKfC"
      },
      "execution_count": null,
      "outputs": []
    },
    {
      "cell_type": "code",
      "source": [
        "#15.Write a program that prompts the user to enter a number between 1 and 10 and keeps prompting them until they enter a valid number.\n",
        "i=int(input('enter number here'))\n",
        "while i<=10:\n",
        "    print('valid number')\n",
        "    break\n",
        "else:\n",
        "    print('invalid number, please enter a valid number')\n"
      ],
      "metadata": {
        "id": "uHnyClMAfKhN"
      },
      "execution_count": null,
      "outputs": []
    },
    {
      "cell_type": "code",
      "source": [
        "#16.Write a program that calculates the sum of all the numbers from 1 to 100.\n",
        "sum=0\n",
        "for i in range(1,101):\n",
        "    sum=sum+i\n",
        "print(\"The sum of all the numbers from 1 to 100 is:\", sum)\n"
      ],
      "metadata": {
        "id": "6eJGGqHEfKkk"
      },
      "execution_count": null,
      "outputs": []
    },
    {
      "cell_type": "code",
      "source": [
        "#17.Write a loop query that counts from 1 to 10 and displays\n",
        "#each number in the console.\n",
        "for i in range(1,11):\n",
        "    print(i)"
      ],
      "metadata": {
        "id": "S9XuyEEOfXBy"
      },
      "execution_count": null,
      "outputs": []
    },
    {
      "cell_type": "code",
      "source": [
        "#18.Write a loop query that calculates the sum of the first 100  numbers\n",
        "#and displays the result in the console.\n",
        "k=0\n",
        "i=1\n",
        "while i<=100:\n",
        "      k=k+i\n",
        "      i=i+1\n",
        "print('sum of 1 to 100 no', k)"
      ],
      "metadata": {
        "id": "0x8sOEL5fXFI"
      },
      "execution_count": null,
      "outputs": []
    },
    {
      "cell_type": "code",
      "source": [
        "#19.Write a loop query that calculates the sum of all even numbers between 1 and 100\n",
        "#and displays the result in the console.\n",
        "              \n",
        "k=0   \n",
        "for i in range(1,101):\n",
        "    if i %2==0:\n",
        "        k=k+0\n",
        "print('sum of all even no',i)\n"
      ],
      "metadata": {
        "id": "i2J7mr4tfXPD"
      },
      "execution_count": null,
      "outputs": []
    },
    {
      "cell_type": "code",
      "source": [
        "#20.print factorial of number\n",
        "num=int(input('enter the number'))\n",
        "fac=1\n",
        "for i in range(1,num+1):\n",
        "    fac=fac*i\n",
        "print('factorial of',num,'is',fac)"
      ],
      "metadata": {
        "id": "bXeliZ0mfgyG"
      },
      "execution_count": null,
      "outputs": []
    },
    {
      "cell_type": "code",
      "source": [
        "#21.print reverse number from 10 to 0 using while loop\n",
        "i=10\n",
        "while i>0:\n",
        "    print(i)\n",
        "    i=i-1"
      ],
      "metadata": {
        "id": "7nzUkOxlfg7v"
      },
      "execution_count": null,
      "outputs": []
    },
    {
      "cell_type": "code",
      "source": [
        "#22.fibonacci series 0,1,1,2,3,5,8,13,21\n",
        "n=int(input('enter the no'))\n",
        "num0=0\n",
        "num1=1\n",
        "i=0\n",
        "while i<n:\n",
        "    print(num0)\n",
        "    num3=num0+num1\n",
        "    num0=num1\n",
        "    num1=num3\n",
        "    i=i+1"
      ],
      "metadata": {
        "id": "CKLugvlDfg_K"
      },
      "execution_count": null,
      "outputs": []
    },
    {
      "cell_type": "code",
      "source": [
        "#23: Write a program that prints the numbers from 1 to 10 using a while loop.\n",
        "i=1\n",
        "while i<=10:\n",
        "    print(i)\n",
        "    i=i+1"
      ],
      "metadata": {
        "id": "bm30HXIFfrlK"
      },
      "execution_count": null,
      "outputs": []
    },
    {
      "cell_type": "code",
      "source": [
        "#24 Write a program that prints the even numbers from 1 to 20 using a for loop.\n",
        "for i in range(2,21,2):\n",
        "    print(i)"
      ],
      "metadata": {
        "id": "tLgD5lNEfrx_"
      },
      "execution_count": null,
      "outputs": []
    },
    {
      "cell_type": "code",
      "source": [
        "#25: Write a program that asks the user to enter a number and then prints\n",
        "#the multiplication table for that number from 1 to 10 using a for loop.\n",
        "k=int(input('multiplication of'))\n",
        "for i in range(1,11):\n",
        "    print(k,'x',i,'=',k*i)"
      ],
      "metadata": {
        "id": "j-F-v9yjfxAg"
      },
      "execution_count": null,
      "outputs": []
    },
    {
      "cell_type": "code",
      "source": [
        "#26 Write a program that asks the user to enter a password\n",
        "#and keeps asking until the correct password is entered using a while loop.\n",
        "i=input('enter a password')\n",
        "while i!='python':\n",
        "    print('please input correct password')\n",
        "    break\n",
        "if i=='python':\n",
        "    print('password is correct')"
      ],
      "metadata": {
        "id": "MugJbvAxfxIu"
      },
      "execution_count": null,
      "outputs": []
    },
    {
      "cell_type": "code",
      "source": [
        "#27 Calculate the factorial of a given number using a for loop in Python.\n",
        "#5=1*2*3*4*5\n",
        "fac=1\n",
        "num=int(input('enter the number'))\n",
        "for i in range(1,num+1):\n",
        "    fac=fac*i\n",
        "print('factorial of',num,'is',fac)\n",
        "    "
      ],
      "metadata": {
        "id": "3qgRBBbMf6S1"
      },
      "execution_count": null,
      "outputs": []
    },
    {
      "cell_type": "code",
      "source": [
        "#28 Print the Fibonacci series up to a given number using a for loop in Python. for eg 6=0,1,1,2,3,5\n",
        "num1=0\n",
        "num2=1\n",
        "i=0\n",
        "fib=int(input('enter the number'))\n",
        "while i<fib:\n",
        "    print(num1)\n",
        "    num3=num1+num2\n",
        "    num1=num2\n",
        "    num2=num3\n",
        "    i=i+1"
      ],
      "metadata": {
        "id": "7I-0SAY6f6Vw"
      },
      "execution_count": null,
      "outputs": []
    },
    {
      "cell_type": "code",
      "source": [
        "#Generate a list of even numbers from 1 to 10.\n",
        "evenno=[x for x in range(1,11) if x%2==0]\n",
        "evenno\n"
      ],
      "metadata": {
        "id": "rPZNyLQzf6ZE"
      },
      "execution_count": null,
      "outputs": []
    },
    {
      "cell_type": "code",
      "source": [
        "for x in range(1,11):\n",
        "    if x%2==0:\n",
        "        print(x)"
      ],
      "metadata": {
        "id": "LHZXsqzlgRsr"
      },
      "execution_count": null,
      "outputs": []
    },
    {
      "cell_type": "code",
      "source": [
        "#Generate a list of squares of numbers from 1 to 5.\n",
        "sq=[x**2 for x in range(1,6)]\n",
        "sq\n"
      ],
      "metadata": {
        "id": "QIbsQ0GjgSXI"
      },
      "execution_count": null,
      "outputs": []
    },
    {
      "cell_type": "code",
      "source": [
        "for x in range(1,6):\n",
        "    print(x**2)"
      ],
      "metadata": {
        "id": "5wwexKFPgSiO"
      },
      "execution_count": null,
      "outputs": []
    },
    {
      "cell_type": "code",
      "source": [
        "squares = []\n",
        "for i in range(1, 6):\n",
        "    squares.append(i ** 2)\n",
        "print(squares)\n"
      ],
      "metadata": {
        "id": "O39EU4ewgZ89"
      },
      "execution_count": null,
      "outputs": []
    },
    {
      "cell_type": "code",
      "source": [
        "def cube(a):\n",
        "    b=a*a*a\n",
        "    return b\n",
        "\n",
        "result=cube(5)\n",
        "print('the cube of 5 is','=', result)    "
      ],
      "metadata": {
        "id": "7llvagW7gg8J"
      },
      "execution_count": null,
      "outputs": []
    },
    {
      "cell_type": "code",
      "source": [
        "cube=lambda a : a*a*a\n",
        "\n",
        "result=cube(5)\n",
        "print('the cube of 5 is','=',result)"
      ],
      "metadata": {
        "id": "XalZAHWZgkIX"
      },
      "execution_count": null,
      "outputs": []
    },
    {
      "cell_type": "code",
      "source": [
        "#create a function findsq which will return square of a given number\n",
        "def square(a):\n",
        "    b=a*a\n",
        "    return b\n",
        "\n",
        "result=square(10)\n",
        "print('the square of 10 is','=',result)"
      ],
      "metadata": {
        "id": "-e6dtgqzgnQw"
      },
      "execution_count": null,
      "outputs": []
    },
    {
      "cell_type": "code",
      "source": [
        "square=lambda a: a*a\n",
        "\n",
        "result=square(10)\n",
        "print('the square of 10 is','=',result)"
      ],
      "metadata": {
        "id": "NKOAB_k6gtrL"
      },
      "execution_count": null,
      "outputs": []
    },
    {
      "cell_type": "code",
      "source": [
        "#create a class name arithmatic with add(), sub(), div(), mul() functions.\n",
        "#pass the values as arguments and perform the required operations.\n",
        "\n",
        "class arithmatic:\n",
        "    def add(self,a,b):\n",
        "        print('addition of a and b is',a+b)\n",
        "    def sub(self,a,b):\n",
        "        print('substraction of a and b is',a-b)\n",
        "    def div(self,a,b):\n",
        "        print('division of a and b is',a/b)\n",
        "    def mul(self,a,b):\n",
        "        print('multiplication of a and b is',a*b)\n",
        "        \n",
        "ans1=arithmatic()\n",
        "ans2=arithmatic()\n",
        "ans3=arithmatic()\n",
        "ans4=arithmatic()\n",
        "\n",
        "\n",
        "ans1.add(10,5)\n",
        "ans2.sub(10,5)\n",
        "ans3.div(10,5)\n",
        "ans4.mul(10,5)"
      ],
      "metadata": {
        "id": "lfhLgrbMgyvw"
      },
      "execution_count": null,
      "outputs": []
    }
  ]
}